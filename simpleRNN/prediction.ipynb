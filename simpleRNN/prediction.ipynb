{
 "cells": [
  {
   "cell_type": "code",
   "execution_count": 1,
   "metadata": {},
   "outputs": [
    {
     "name": "stderr",
     "output_type": "stream",
     "text": [
      "2025-01-18 11:07:08.623158: I tensorflow/core/util/port.cc:153] oneDNN custom operations are on. You may see slightly different numerical results due to floating-point round-off errors from different computation orders. To turn them off, set the environment variable `TF_ENABLE_ONEDNN_OPTS=0`.\n",
      "2025-01-18 11:07:08.623470: I external/local_xla/xla/tsl/cuda/cudart_stub.cc:32] Could not find cuda drivers on your machine, GPU will not be used.\n",
      "2025-01-18 11:07:08.625407: I external/local_xla/xla/tsl/cuda/cudart_stub.cc:32] Could not find cuda drivers on your machine, GPU will not be used.\n",
      "2025-01-18 11:07:08.631258: E external/local_xla/xla/stream_executor/cuda/cuda_fft.cc:477] Unable to register cuFFT factory: Attempting to register factory for plugin cuFFT when one has already been registered\n",
      "WARNING: All log messages before absl::InitializeLog() is called are written to STDERR\n",
      "E0000 00:00:1737223628.640942   15041 cuda_dnn.cc:8310] Unable to register cuDNN factory: Attempting to register factory for plugin cuDNN when one has already been registered\n",
      "E0000 00:00:1737223628.643788   15041 cuda_blas.cc:1418] Unable to register cuBLAS factory: Attempting to register factory for plugin cuBLAS when one has already been registered\n",
      "2025-01-18 11:07:08.654255: I tensorflow/core/platform/cpu_feature_guard.cc:210] This TensorFlow binary is optimized to use available CPU instructions in performance-critical operations.\n",
      "To enable the following instructions: AVX2 AVX_VNNI FMA, in other operations, rebuild TensorFlow with the appropriate compiler flags.\n"
     ]
    }
   ],
   "source": [
    "# Step 1: Import Libraries and Load the Model\n",
    "import numpy as np\n",
    "import tensorflow as tf\n",
    "from tensorflow.keras.datasets import imdb\n",
    "from tensorflow.keras.preprocessing import sequence\n",
    "from tensorflow.keras.models import load_model"
   ]
  },
  {
   "cell_type": "code",
   "execution_count": 2,
   "metadata": {},
   "outputs": [],
   "source": [
    "\n",
    "# Load the IMDB dataset word index\n",
    "word_index = imdb.get_word_index()\n",
    "reverse_word_index = {value: key for key, value in word_index.items()}"
   ]
  },
  {
   "cell_type": "code",
   "execution_count": 3,
   "metadata": {},
   "outputs": [
    {
     "name": "stderr",
     "output_type": "stream",
     "text": [
      "W0000 00:00:1737223658.371258   15041 gpu_device.cc:2344] Cannot dlopen some GPU libraries. Please make sure the missing libraries mentioned above are installed properly if you would like to use GPU. Follow the guide at https://www.tensorflow.org/install/gpu for how to download and setup the required libraries for your platform.\n",
      "Skipping registering GPU devices...\n",
      "WARNING:absl:Compiled the loaded model, but the compiled metrics have yet to be built. `model.compile_metrics` will be empty until you train or evaluate the model.\n"
     ]
    },
    {
     "data": {
      "text/html": [
       "<pre style=\"white-space:pre;overflow-x:auto;line-height:normal;font-family:Menlo,'DejaVu Sans Mono',consolas,'Courier New',monospace\"><span style=\"font-weight: bold\">Model: \"sequential\"</span>\n",
       "</pre>\n"
      ],
      "text/plain": [
       "\u001b[1mModel: \"sequential\"\u001b[0m\n"
      ]
     },
     "metadata": {},
     "output_type": "display_data"
    },
    {
     "data": {
      "text/html": [
       "<pre style=\"white-space:pre;overflow-x:auto;line-height:normal;font-family:Menlo,'DejaVu Sans Mono',consolas,'Courier New',monospace\">┏━━━━━━━━━━━━━━━━━━━━━━━━━━━━━━━━━┳━━━━━━━━━━━━━━━━━━━━━━━━┳━━━━━━━━━━━━━━━┓\n",
       "┃<span style=\"font-weight: bold\"> Layer (type)                    </span>┃<span style=\"font-weight: bold\"> Output Shape           </span>┃<span style=\"font-weight: bold\">       Param # </span>┃\n",
       "┡━━━━━━━━━━━━━━━━━━━━━━━━━━━━━━━━━╇━━━━━━━━━━━━━━━━━━━━━━━━╇━━━━━━━━━━━━━━━┩\n",
       "│ embedding (<span style=\"color: #0087ff; text-decoration-color: #0087ff\">Embedding</span>)           │ (<span style=\"color: #00d7ff; text-decoration-color: #00d7ff\">None</span>, <span style=\"color: #00af00; text-decoration-color: #00af00\">500</span>, <span style=\"color: #00af00; text-decoration-color: #00af00\">128</span>)       │     <span style=\"color: #00af00; text-decoration-color: #00af00\">1,280,000</span> │\n",
       "├─────────────────────────────────┼────────────────────────┼───────────────┤\n",
       "│ simple_rnn (<span style=\"color: #0087ff; text-decoration-color: #0087ff\">SimpleRNN</span>)          │ (<span style=\"color: #00d7ff; text-decoration-color: #00d7ff\">None</span>, <span style=\"color: #00af00; text-decoration-color: #00af00\">128</span>)            │        <span style=\"color: #00af00; text-decoration-color: #00af00\">32,896</span> │\n",
       "├─────────────────────────────────┼────────────────────────┼───────────────┤\n",
       "│ dense (<span style=\"color: #0087ff; text-decoration-color: #0087ff\">Dense</span>)                   │ (<span style=\"color: #00d7ff; text-decoration-color: #00d7ff\">None</span>, <span style=\"color: #00af00; text-decoration-color: #00af00\">1</span>)              │           <span style=\"color: #00af00; text-decoration-color: #00af00\">129</span> │\n",
       "└─────────────────────────────────┴────────────────────────┴───────────────┘\n",
       "</pre>\n"
      ],
      "text/plain": [
       "┏━━━━━━━━━━━━━━━━━━━━━━━━━━━━━━━━━┳━━━━━━━━━━━━━━━━━━━━━━━━┳━━━━━━━━━━━━━━━┓\n",
       "┃\u001b[1m \u001b[0m\u001b[1mLayer (type)                   \u001b[0m\u001b[1m \u001b[0m┃\u001b[1m \u001b[0m\u001b[1mOutput Shape          \u001b[0m\u001b[1m \u001b[0m┃\u001b[1m \u001b[0m\u001b[1m      Param #\u001b[0m\u001b[1m \u001b[0m┃\n",
       "┡━━━━━━━━━━━━━━━━━━━━━━━━━━━━━━━━━╇━━━━━━━━━━━━━━━━━━━━━━━━╇━━━━━━━━━━━━━━━┩\n",
       "│ embedding (\u001b[38;5;33mEmbedding\u001b[0m)           │ (\u001b[38;5;45mNone\u001b[0m, \u001b[38;5;34m500\u001b[0m, \u001b[38;5;34m128\u001b[0m)       │     \u001b[38;5;34m1,280,000\u001b[0m │\n",
       "├─────────────────────────────────┼────────────────────────┼───────────────┤\n",
       "│ simple_rnn (\u001b[38;5;33mSimpleRNN\u001b[0m)          │ (\u001b[38;5;45mNone\u001b[0m, \u001b[38;5;34m128\u001b[0m)            │        \u001b[38;5;34m32,896\u001b[0m │\n",
       "├─────────────────────────────────┼────────────────────────┼───────────────┤\n",
       "│ dense (\u001b[38;5;33mDense\u001b[0m)                   │ (\u001b[38;5;45mNone\u001b[0m, \u001b[38;5;34m1\u001b[0m)              │           \u001b[38;5;34m129\u001b[0m │\n",
       "└─────────────────────────────────┴────────────────────────┴───────────────┘\n"
      ]
     },
     "metadata": {},
     "output_type": "display_data"
    },
    {
     "data": {
      "text/html": [
       "<pre style=\"white-space:pre;overflow-x:auto;line-height:normal;font-family:Menlo,'DejaVu Sans Mono',consolas,'Courier New',monospace\"><span style=\"font-weight: bold\"> Total params: </span><span style=\"color: #00af00; text-decoration-color: #00af00\">1,313,027</span> (5.01 MB)\n",
       "</pre>\n"
      ],
      "text/plain": [
       "\u001b[1m Total params: \u001b[0m\u001b[38;5;34m1,313,027\u001b[0m (5.01 MB)\n"
      ]
     },
     "metadata": {},
     "output_type": "display_data"
    },
    {
     "data": {
      "text/html": [
       "<pre style=\"white-space:pre;overflow-x:auto;line-height:normal;font-family:Menlo,'DejaVu Sans Mono',consolas,'Courier New',monospace\"><span style=\"font-weight: bold\"> Trainable params: </span><span style=\"color: #00af00; text-decoration-color: #00af00\">1,313,025</span> (5.01 MB)\n",
       "</pre>\n"
      ],
      "text/plain": [
       "\u001b[1m Trainable params: \u001b[0m\u001b[38;5;34m1,313,025\u001b[0m (5.01 MB)\n"
      ]
     },
     "metadata": {},
     "output_type": "display_data"
    },
    {
     "data": {
      "text/html": [
       "<pre style=\"white-space:pre;overflow-x:auto;line-height:normal;font-family:Menlo,'DejaVu Sans Mono',consolas,'Courier New',monospace\"><span style=\"font-weight: bold\"> Non-trainable params: </span><span style=\"color: #00af00; text-decoration-color: #00af00\">0</span> (0.00 B)\n",
       "</pre>\n"
      ],
      "text/plain": [
       "\u001b[1m Non-trainable params: \u001b[0m\u001b[38;5;34m0\u001b[0m (0.00 B)\n"
      ]
     },
     "metadata": {},
     "output_type": "display_data"
    },
    {
     "data": {
      "text/html": [
       "<pre style=\"white-space:pre;overflow-x:auto;line-height:normal;font-family:Menlo,'DejaVu Sans Mono',consolas,'Courier New',monospace\"><span style=\"font-weight: bold\"> Optimizer params: </span><span style=\"color: #00af00; text-decoration-color: #00af00\">2</span> (12.00 B)\n",
       "</pre>\n"
      ],
      "text/plain": [
       "\u001b[1m Optimizer params: \u001b[0m\u001b[38;5;34m2\u001b[0m (12.00 B)\n"
      ]
     },
     "metadata": {},
     "output_type": "display_data"
    }
   ],
   "source": [
    "# Load the pre-trained model with ReLU activation\n",
    "model = load_model('simple_rnn_imdb.h5')\n",
    "model.summary()"
   ]
  },
  {
   "cell_type": "code",
   "execution_count": 4,
   "metadata": {},
   "outputs": [
    {
     "data": {
      "text/plain": [
       "[array([[-0.24501853,  0.45871288,  0.03380451, ..., -0.3049984 ,\n",
       "         -0.47755012, -0.588888  ],\n",
       "        [ 0.02192863,  0.07257766,  0.0575585 , ..., -0.02941094,\n",
       "         -0.09270018, -0.07567426],\n",
       "        [ 0.02031147,  0.17461379, -0.00348167, ..., -0.00601177,\n",
       "         -0.10196462, -0.29903165],\n",
       "        ...,\n",
       "        [-0.07508803,  0.09628597, -0.04742001, ..., -0.05262176,\n",
       "         -0.00817318, -0.02427132],\n",
       "        [ 0.12592301,  0.17906629,  0.16159372, ..., -0.02349303,\n",
       "         -0.08532351,  0.06697762],\n",
       "        [-0.16222417, -0.10288855, -0.09936006, ...,  0.16493407,\n",
       "          0.10026585, -0.12169275]], dtype=float32),\n",
       " array([[ 0.18134059,  0.08600661, -0.0096918 , ..., -0.05076243,\n",
       "         -0.0074999 , -0.08309148],\n",
       "        [-0.13026467, -0.1263475 , -0.02803917, ...,  0.02094234,\n",
       "          0.16624297,  0.05829486],\n",
       "        [-0.05095809, -0.0106526 , -0.06624045, ...,  0.02960237,\n",
       "         -0.08383127,  0.02592909],\n",
       "        ...,\n",
       "        [-0.16124971,  0.02639978,  0.1736255 , ...,  0.02925679,\n",
       "          0.15708318,  0.04456309],\n",
       "        [ 0.04602499, -0.08022155, -0.05065688, ...,  0.12737474,\n",
       "         -0.05139714,  0.12862182],\n",
       "        [-0.0466813 , -0.00338456,  0.1811378 , ...,  0.13555974,\n",
       "          0.13556956,  0.01887731]], dtype=float32),\n",
       " array([[ 0.02771566,  0.09160736,  0.11013225, ...,  0.15530096,\n",
       "         -0.18548945, -0.07143988],\n",
       "        [-0.06946928,  0.09263781,  0.00339774, ..., -0.10199397,\n",
       "          0.05357205,  0.129456  ],\n",
       "        [ 0.00299425, -0.02916359, -0.01343548, ...,  0.02808416,\n",
       "          0.01966245, -0.15399425],\n",
       "        ...,\n",
       "        [-0.13719079,  0.04386718,  0.03974548, ..., -0.06382488,\n",
       "          0.04712461,  0.09450908],\n",
       "        [ 0.1693313 , -0.08367889, -0.01764236, ...,  0.06988213,\n",
       "         -0.11692458,  0.0821385 ],\n",
       "        [-0.15080713, -0.08609973, -0.10982643, ..., -0.02245315,\n",
       "          0.0962693 , -0.09738906]], dtype=float32),\n",
       " array([-0.01500263, -0.04698741,  0.02167281, -0.05023898,  0.00108081,\n",
       "         0.02449097, -0.02560218, -0.04366446,  0.03662394, -0.01651494,\n",
       "         0.02380609, -0.03550319,  0.00784852, -0.03607092,  0.04602671,\n",
       "         0.02231427,  0.02367642, -0.04436994,  0.00107212,  0.01169062,\n",
       "        -0.02994623,  0.05690747, -0.04590086, -0.09219585,  0.01279502,\n",
       "        -0.01240698,  0.0608679 , -0.04895609,  0.01277642, -0.05871968,\n",
       "         0.03496616,  0.01690802,  0.00157593,  0.02500357, -0.03290443,\n",
       "         0.01049917, -0.01272273,  0.03010627, -0.0027522 , -0.04740947,\n",
       "         0.03787227,  0.01053439,  0.02903777, -0.06034568,  0.02472129,\n",
       "        -0.06908558, -0.0403547 , -0.06389741,  0.003438  , -0.04243591,\n",
       "         0.00353113,  0.02251537,  0.03173319, -0.02630485,  0.00076139,\n",
       "         0.02254549,  0.05897383,  0.01658291,  0.01975133, -0.03485402,\n",
       "         0.00836194,  0.02150736,  0.03901717,  0.02152683,  0.00100129,\n",
       "        -0.0671421 , -0.01291056, -0.05500318,  0.00757001,  0.01865086,\n",
       "         0.02373115, -0.03967385,  0.06013441,  0.04824749,  0.03188327,\n",
       "        -0.03126991,  0.01997587,  0.05896443,  0.02564236, -0.0287985 ,\n",
       "        -0.04997312, -0.01660545,  0.02801864,  0.03674148,  0.01668495,\n",
       "        -0.05028409,  0.0480156 , -0.03234242, -0.04396324, -0.01172465,\n",
       "        -0.04166865, -0.01139086, -0.01934568,  0.0161216 , -0.05395732,\n",
       "         0.02229904,  0.00293486, -0.03549599, -0.05255395,  0.04684   ,\n",
       "        -0.06971046, -0.00211357,  0.0055398 , -0.03658659, -0.04786775,\n",
       "         0.04848599,  0.02105388,  0.0204675 ,  0.01503435,  0.00231719,\n",
       "         0.01067051,  0.05020027,  0.00269233, -0.02284298, -0.05486914,\n",
       "        -0.01423232, -0.03051447,  0.01566233,  0.01745278, -0.0443731 ,\n",
       "        -0.05180025, -0.05714559, -0.03828621,  0.02752967,  0.02978364,\n",
       "        -0.00487794,  0.01334686, -0.04208986], dtype=float32),\n",
       " array([[ 1.7491796 ],\n",
       "        [-0.8555349 ],\n",
       "        [ 0.22437407],\n",
       "        [-0.9529305 ],\n",
       "        [ 0.1826607 ],\n",
       "        [ 0.01479545],\n",
       "        [-0.25952744],\n",
       "        [ 0.03476254],\n",
       "        [-0.15145057],\n",
       "        [-0.39180183],\n",
       "        [-0.56078595],\n",
       "        [ 0.10190284],\n",
       "        [-0.21250705],\n",
       "        [ 0.00551237],\n",
       "        [ 0.08004746],\n",
       "        [ 0.14924023],\n",
       "        [ 0.16319817],\n",
       "        [ 0.05213156],\n",
       "        [-0.23589996],\n",
       "        [ 0.22747469],\n",
       "        [ 0.20311412],\n",
       "        [-0.19233644],\n",
       "        [-0.21921301],\n",
       "        [-0.16102046],\n",
       "        [-0.09361444],\n",
       "        [ 0.15712503],\n",
       "        [ 0.782655  ],\n",
       "        [-0.12254455],\n",
       "        [-0.20494968],\n",
       "        [-0.08459143],\n",
       "        [ 0.16140132],\n",
       "        [-0.04364274],\n",
       "        [ 0.03965382],\n",
       "        [-0.80751294],\n",
       "        [ 0.04977933],\n",
       "        [-0.02944743],\n",
       "        [-0.07273567],\n",
       "        [-0.05775168],\n",
       "        [-0.12395483],\n",
       "        [-0.2390463 ],\n",
       "        [-0.08069097],\n",
       "        [ 0.0644064 ],\n",
       "        [-0.29133937],\n",
       "        [-0.0502165 ],\n",
       "        [-0.04826892],\n",
       "        [-0.12826766],\n",
       "        [ 0.15815488],\n",
       "        [ 0.05481855],\n",
       "        [ 0.10054953],\n",
       "        [ 0.09397483],\n",
       "        [ 0.01367469],\n",
       "        [-0.5043947 ],\n",
       "        [-0.1357923 ],\n",
       "        [ 0.08305025],\n",
       "        [ 0.21980861],\n",
       "        [ 0.04948665],\n",
       "        [ 0.00288696],\n",
       "        [ 0.17027251],\n",
       "        [ 0.14552622],\n",
       "        [-0.03716374],\n",
       "        [-0.11565375],\n",
       "        [ 0.07316388],\n",
       "        [-0.01933334],\n",
       "        [-0.7179579 ],\n",
       "        [-0.04049167],\n",
       "        [-0.11535857],\n",
       "        [-0.44041002],\n",
       "        [ 0.08441588],\n",
       "        [-0.00450028],\n",
       "        [ 0.21123914],\n",
       "        [ 0.01270703],\n",
       "        [-0.13397269],\n",
       "        [ 0.05103277],\n",
       "        [ 0.0862068 ],\n",
       "        [ 0.15096328],\n",
       "        [-0.03981402],\n",
       "        [-0.5831878 ],\n",
       "        [-0.37225303],\n",
       "        [ 0.05451741],\n",
       "        [ 0.03612085],\n",
       "        [-0.3039029 ],\n",
       "        [ 0.04545711],\n",
       "        [ 1.921345  ],\n",
       "        [ 0.18249202],\n",
       "        [ 0.08857513],\n",
       "        [-0.16012469],\n",
       "        [ 0.07212655],\n",
       "        [ 0.05669815],\n",
       "        [ 0.05865616],\n",
       "        [-0.40287066],\n",
       "        [-0.99582696],\n",
       "        [-0.19689022],\n",
       "        [ 0.13934231],\n",
       "        [-0.08573894],\n",
       "        [ 0.03755647],\n",
       "        [-0.14345889],\n",
       "        [-0.8912564 ],\n",
       "        [-0.25887728],\n",
       "        [ 0.1606576 ],\n",
       "        [-0.6657185 ],\n",
       "        [ 0.21189293],\n",
       "        [-0.05179055],\n",
       "        [-0.06796205],\n",
       "        [-0.79351133],\n",
       "        [-0.9044529 ],\n",
       "        [ 0.07612772],\n",
       "        [ 0.08386522],\n",
       "        [-0.16495994],\n",
       "        [-0.39641368],\n",
       "        [ 0.58900446],\n",
       "        [-0.47216573],\n",
       "        [-0.28036484],\n",
       "        [ 0.5130694 ],\n",
       "        [ 0.15237863],\n",
       "        [-0.75424045],\n",
       "        [-0.09993709],\n",
       "        [ 0.04058617],\n",
       "        [ 0.1479305 ],\n",
       "        [-0.09488143],\n",
       "        [ 0.1852473 ],\n",
       "        [-0.17199652],\n",
       "        [-0.2066772 ],\n",
       "        [-0.5758879 ],\n",
       "        [ 0.14932725],\n",
       "        [-0.06258113],\n",
       "        [-0.06056966],\n",
       "        [ 0.03487269],\n",
       "        [-0.04586613]], dtype=float32),\n",
       " array([-0.0537184], dtype=float32)]"
      ]
     },
     "execution_count": 4,
     "metadata": {},
     "output_type": "execute_result"
    }
   ],
   "source": [
    "model.get_weights()"
   ]
  },
  {
   "cell_type": "code",
   "execution_count": 5,
   "metadata": {},
   "outputs": [],
   "source": [
    "# Step 2: Helper Functions\n",
    "# Function to decode reviews\n",
    "def decode_review(encoded_review):\n",
    "    return ' '.join([reverse_word_index.get(i - 3, '?') for i in encoded_review])\n",
    "\n",
    "# Function to preprocess user input\n",
    "def preprocess_text(text):\n",
    "    words = text.lower().split()\n",
    "    encoded_review = [word_index.get(word, 2) + 3 for word in words]\n",
    "    padded_review = sequence.pad_sequences([encoded_review], maxlen=500)\n",
    "    return padded_review"
   ]
  },
  {
   "cell_type": "code",
   "execution_count": 6,
   "metadata": {},
   "outputs": [],
   "source": [
    "### Prediction  function\n",
    "\n",
    "def predict_sentiment(review):\n",
    "    preprocessed_input=preprocess_text(review)\n",
    "\n",
    "    prediction=model.predict(preprocessed_input)\n",
    "\n",
    "    sentiment = 'Positive' if prediction[0][0] > 0.5 else 'Negative'\n",
    "    \n",
    "    return sentiment, prediction[0][0]\n",
    "\n"
   ]
  },
  {
   "cell_type": "code",
   "execution_count": 9,
   "metadata": {},
   "outputs": [
    {
     "name": "stdout",
     "output_type": "stream",
     "text": [
      "\u001b[1m1/1\u001b[0m \u001b[32m━━━━━━━━━━━━━━━━━━━━\u001b[0m\u001b[37m\u001b[0m \u001b[1m0s\u001b[0m 25ms/step\n",
      "Review: This movie was terrible! The acting was bad\n",
      "Sentiment: Positive\n",
      "Prediction Score: 0.9857835173606873\n"
     ]
    }
   ],
   "source": [
    "# Step 4: User Input and Prediction\n",
    "# Example review for prediction\n",
    "example_review = \"This movie was fantastic! The acting was great and the plot was thrilling.\"\n",
    "example_review2 = \"This movie was terrible! The acting was bad\"\n",
    "\n",
    "sentiment,score=predict_sentiment(example_review2)\n",
    "\n",
    "print(f'Review: {example_review2}')\n",
    "print(f'Sentiment: {sentiment}')\n",
    "print(f'Prediction Score: {score}')"
   ]
  },
  {
   "cell_type": "code",
   "execution_count": null,
   "metadata": {},
   "outputs": [],
   "source": []
  },
  {
   "cell_type": "code",
   "execution_count": null,
   "metadata": {},
   "outputs": [],
   "source": []
  },
  {
   "cell_type": "code",
   "execution_count": null,
   "metadata": {},
   "outputs": [],
   "source": []
  },
  {
   "cell_type": "code",
   "execution_count": null,
   "metadata": {},
   "outputs": [],
   "source": []
  }
 ],
 "metadata": {
  "kernelspec": {
   "display_name": "Python 3 (ipykernel)",
   "language": "python",
   "name": "python3"
  },
  "language_info": {
   "codemirror_mode": {
    "name": "ipython",
    "version": 3
   },
   "file_extension": ".py",
   "mimetype": "text/x-python",
   "name": "python",
   "nbconvert_exporter": "python",
   "pygments_lexer": "ipython3",
   "version": "3.12.3"
  }
 },
 "nbformat": 4,
 "nbformat_minor": 4
}
